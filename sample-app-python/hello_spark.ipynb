{
 "cells": [
  {
   "cell_type": "code",
   "execution_count": null,
   "id": "02aabc3e-3a08-4c4f-a5b0-3be9f574ee80",
   "metadata": {},
   "outputs": [],
   "source": [
    "import pyspark\n",
    "from pyspark.sql import SparkSession\n",
    "from pyspark import SparkConf\n",
    "\n",
    "config = ( SparkConf()\n",
    "             .setAppName(\"TestApp\")\n",
    "             #.setMaster(\"local[*]\")\n",
    "             .setMaster(\"spark://spark-master:7077\")\n",
    "             )\n",
    "\n",
    "# Spark session & context\n",
    "spark = SparkSession.builder.config(conf=config).getOrCreate()\n",
    "print('Spark UI running on port ' + spark.sparkContext.uiWebUrl.split(':')[2])\n",
    "spark"
   ]
  },
  {
   "cell_type": "code",
   "execution_count": null,
   "id": "fe70c32e-9ca3-46d0-a5f1-01c3395519a7",
   "metadata": {},
   "outputs": [],
   "source": [
    "a = spark.range(1, 10000000)\n",
    "a.count()"
   ]
  },
  {
   "cell_type": "code",
   "execution_count": null,
   "id": "4e19446f-cf6c-42b4-9305-8d59288e0fe8",
   "metadata": {},
   "outputs": [],
   "source": [
    "f = spark.read.text(\"/etc/hosts\")\n",
    "f.count()"
   ]
  },
  {
   "cell_type": "code",
   "execution_count": null,
   "id": "342a578e-6bfa-43b4-98f2-1b84cf00cc3e",
   "metadata": {},
   "outputs": [],
   "source": [
    "# clickstream = spark.read.json(\"../data/clickstream/clickstream.json\")\n",
    "clickstream = spark.read.json(\"/data/clickstream/clickstream.json\")\n",
    "clickstream.printSchema()\n",
    "clickstream.show()\n",
    "clickstream.count()\n",
    "clickstream.filter(\"action = 'clicked'\").count()"
   ]
  },
  {
   "cell_type": "code",
   "execution_count": null,
   "id": "fda396d1-8abb-447c-b6c7-624317ffd414",
   "metadata": {},
   "outputs": [],
   "source": []
  }
 ],
 "metadata": {
  "kernelspec": {
   "display_name": "Python 3 (ipykernel)",
   "language": "python",
   "name": "python3"
  },
  "language_info": {
   "codemirror_mode": {
    "name": "ipython",
    "version": 3
   },
   "file_extension": ".py",
   "mimetype": "text/x-python",
   "name": "python",
   "nbconvert_exporter": "python",
   "pygments_lexer": "ipython3",
   "version": "3.10.5"
  }
 },
 "nbformat": 4,
 "nbformat_minor": 5
}
